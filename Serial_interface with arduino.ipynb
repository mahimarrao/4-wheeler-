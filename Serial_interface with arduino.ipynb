{
 "cells": [
  {
   "cell_type": "code",
   "execution_count": 4,
   "id": "d64ee7d1",
   "metadata": {},
   "outputs": [],
   "source": [
    "import serial\n",
    "import time"
   ]
  },
  {
   "cell_type": "code",
   "execution_count": 7,
   "id": "4cc0984d",
   "metadata": {},
   "outputs": [
    {
     "name": "stdout",
     "output_type": "stream",
     "text": [
      "type 1/0 to control led\n",
      "1\n",
      "var 1\n",
      "ON\n",
      "0\n",
      "var 0\n",
      "OFF\n",
      "1\n",
      "var 1\n",
      "ON\n",
      "0\n",
      "var 0\n",
      "OFF\n",
      "q\n",
      "var q\n"
     ]
    }
   ],
   "source": [
    "# TO control on board led \n",
    "\n",
    "Arduino = serial.Serial('COM4',9600)\n",
    "time.sleep(2)\n",
    "\n",
    "print(\"type 1/0 to control led\")\n",
    "\n",
    "while 1:\n",
    "    var = input()\n",
    "    print(\"var\",var)\n",
    "    \n",
    "    if var == \"1\":\n",
    "        Arduino.write(b'1')\n",
    "        print(\"ON\")\n",
    "        \n",
    "    elif var ==\"0\":\n",
    "        Arduino.write(b'0')\n",
    "        print(\"OFF\")\n",
    "    elif var ==\"q\":\n",
    "        break"
   ]
  },
  {
   "cell_type": "code",
   "execution_count": null,
   "id": "585cc619",
   "metadata": {},
   "outputs": [],
   "source": [
    "# to move robot \n",
    "Arduino = serial.Serial('COM4',9600)\n",
    "time.sleep(2)\n",
    "\n",
    "print(\"type 1/0 to control led\")\n",
    "\n",
    "while 1:\n",
    "    var = input()\n",
    "    print(\"var\",var)\n",
    "    \n",
    "    if var == \"w\":\n",
    "        Arduino.write(b'f')\n",
    "        print(\"Forward\")\n",
    "        \n",
    "    elif var ==\"s\":\n",
    "        Arduino.write(b'b')\n",
    "        print(\"Backward\")\n",
    "    elif var ==\"d\":\n",
    "        Arduino.write(b'l')\n",
    "        print(\"left\")\n",
    "    elif var ==\"a\":\n",
    "        Arduino.write(b'r')\n",
    "        print(\"right\")\n",
    "    elif var ==\"x\":\n",
    "        Arduino.write(b's')\n",
    "        print(\"Stop\")\n",
    "    elif var ==\"q\":\n",
    "        break\n"
   ]
  }
 ],
 "metadata": {
  "kernelspec": {
   "display_name": "Python 3",
   "language": "python",
   "name": "python3"
  },
  "language_info": {
   "codemirror_mode": {
    "name": "ipython",
    "version": 3
   },
   "file_extension": ".py",
   "mimetype": "text/x-python",
   "name": "python",
   "nbconvert_exporter": "python",
   "pygments_lexer": "ipython3",
   "version": "3.7.10"
  }
 },
 "nbformat": 4,
 "nbformat_minor": 5
}
